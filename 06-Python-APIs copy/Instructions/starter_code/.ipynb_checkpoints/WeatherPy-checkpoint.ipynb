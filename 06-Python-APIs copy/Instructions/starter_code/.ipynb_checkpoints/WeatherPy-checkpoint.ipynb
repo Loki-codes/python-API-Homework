{
 "cells": [
  {
   "cell_type": "markdown",
   "metadata": {},
   "source": [
    "# WeatherPy\n",
    "----\n",
    "\n",
    "#### Note\n",
    "* Instructions have been included for each segment. You do not have to follow them exactly, but they are included to help you think through the steps."
   ]
  },
  {
   "cell_type": "code",
   "execution_count": 11,
   "metadata": {
    "scrolled": true
   },
   "outputs": [
    {
     "name": "stdout",
     "output_type": "stream",
     "text": [
      "1d54528d4bb3beecd81802b7ec3f3d12\n"
     ]
    }
   ],
   "source": [
    "# Dependencies and Setup\n",
    "import matplotlib.pyplot as plt\n",
    "import pandas as pd\n",
    "import numpy as np\n",
    "import requests\n",
    "import time\n",
    "from scipy.stats import linregress\n",
    "import json\n",
    "\n",
    "# Import API key\n",
    "from api_keys import weather_api_key\n",
    "print(weather_api_key)\n",
    "\n",
    "# Incorporated citipy to determine city based on latitude and longitude\n",
    "from citipy import citipy\n",
    "\n",
    "# Output File (CSV)\n",
    "output_data_file = \"output_data/cities.csv\"\n",
    "\n",
    "# Range of latitudes and longitudes\n",
    "lat_range = (-90, 90)\n",
    "lng_range = (-180, 180)"
   ]
  },
  {
   "cell_type": "markdown",
   "metadata": {},
   "source": [
    "## Generate Cities List"
   ]
  },
  {
   "cell_type": "code",
   "execution_count": 12,
   "metadata": {},
   "outputs": [
    {
     "data": {
      "text/plain": [
       "605"
      ]
     },
     "execution_count": 12,
     "metadata": {},
     "output_type": "execute_result"
    }
   ],
   "source": [
    "# List for holding lat_lngs and cities\n",
    "lat_lngs = []\n",
    "cities = []\n",
    "\n",
    "# Create a set of random lat and lng combinations\n",
    "lats = np.random.uniform(lat_range[0], lat_range[1], size=1500)\n",
    "lngs = np.random.uniform(lng_range[0], lng_range[1], size=1500)\n",
    "lat_lngs = zip(lats, lngs)\n",
    "\n",
    "# Identify nearest city for each lat, lng combination\n",
    "for lat_lng in lat_lngs:\n",
    "    city = citipy.nearest_city(lat_lng[0], lat_lng[1]).city_name\n",
    "    \n",
    "    # If the city is unique, then add it to a our cities list\n",
    "    if city not in cities:\n",
    "        cities.append(city)\n",
    "\n",
    "# Print the city count to confirm sufficient count\n",
    "len(cities)"
   ]
  },
  {
   "cell_type": "markdown",
   "metadata": {},
   "source": [
    "### Perform API Calls\n",
    "* Perform a weather check on each city using a series of successive API calls.\n",
    "* Include a print log of each city as it'sbeing processed (with the city number and city name).\n"
   ]
  },
  {
   "cell_type": "code",
   "execution_count": 20,
   "metadata": {},
   "outputs": [
    {
     "name": "stdout",
     "output_type": "stream",
     "text": [
      "Ayr\n",
      "Qaanaaq\n",
      "Avarua\n",
      "Ushuaia\n",
      "Lensk\n",
      "Ponta do Sol\n",
      "Not Found. Skipping\n",
      "Kathu\n",
      "Guadalupe\n",
      "Sohag\n",
      "Ibrā’\n",
      "Leningradskiy\n",
      "São Filipe\n",
      "Dingle\n",
      "Chicama\n",
      "Tasiilaq\n",
      "Mogadishu\n",
      "Yellowknife\n",
      "Nanortalik\n",
      "Port Macquarie\n",
      "Tuktoyaktuk\n",
      "Cuetzalan\n",
      "Olafsvik\n",
      "Kaitangata\n",
      "Sindou\n",
      "Nikolskoye\n",
      "Alta Floresta\n",
      "Bluff\n",
      "Thompson\n",
      "Fairbanks\n",
      "Mehamn\n",
      "Busselton\n",
      "Bengkulu\n",
      "Vaini\n",
      "Talaya\n",
      "Clyde River\n",
      "Karla\n",
      "Breves\n",
      "Not Found. Skipping\n",
      "Khatanga\n",
      "Port Hedland\n",
      "Laguna\n",
      "Altay\n",
      "Gold Coast\n",
      "Not Found. Skipping\n",
      "Cooma\n",
      "Lompoc\n",
      "New Norfolk\n",
      "Agadez\n",
      "Albert Lea\n",
      "Oranjestad\n",
      "Pontes e Lacerda\n",
      "Mattru\n",
      "Jamestown\n",
      "Noumea\n",
      "Not Found. Skipping\n",
      "Not Found. Skipping\n",
      "Bonavista\n",
      "Hermanus\n",
      "Fortuna\n",
      "Hilo\n",
      "Not Found. Skipping\n",
      "Bud\n",
      "Mar del Plata\n",
      "Rikitea\n",
      "Vung Tau\n",
      "Butaritari\n",
      "Solnechnyy\n",
      "Hasaki\n",
      "Manta\n",
      "Barrow\n",
      "Oshikango\n",
      "Riyadh\n",
      "Not Found. Skipping\n",
      "Hwange\n",
      "Castro\n",
      "Mataura\n",
      "Cidreira\n",
      "Gorontalo\n",
      "Torgau\n",
      "Yulara\n",
      "Pisco\n",
      "Ubari\n",
      "Port Alfred\n",
      "Cherskiy\n",
      "Albany\n",
      "Not Found. Skipping\n",
      "Klaksvík\n",
      "Harbour Breton\n",
      "Dikson\n",
      "Port Blair\n",
      "Scarborough\n",
      "La Asuncion\n",
      "Upernavik\n",
      "High Rock\n",
      "La Libertad\n",
      "Geraldton\n",
      "Lüderitz\n",
      "Airai\n",
      "Atuona\n",
      "Wagar\n",
      "Not Found. Skipping\n",
      "Kieta\n",
      "Yerbogachën\n",
      "Narsaq\n",
      "Turaif\n",
      "Bang Saphan\n",
      "Not Found. Skipping\n",
      "Eugene\n",
      "Aranos\n",
      "Nassau\n",
      "Anzio\n",
      "Saint Paul Harbor\n",
      "Hobart\n",
      "Chernyakhovsk\n",
      "Cape Town\n",
      "Chui\n",
      "Carnarvon\n",
      "Not Found. Skipping\n",
      "Not Found. Skipping\n",
      "Ucluelet\n",
      "Nemuro\n",
      "Not Found. Skipping\n",
      "Fort Nelson\n",
      "Bairiki Village\n",
      "Al Bardīyah\n",
      "Bratsk\n",
      "Pastavy\n",
      "Iqaluit\n",
      "Labuhan\n",
      "Devils Lake\n",
      "Geráki\n",
      "Minot\n",
      "Naze\n",
      "Broome\n",
      "Skibbereen\n",
      "Punta Arenas\n",
      "Puerto Escondido\n",
      "Waitati\n",
      "Broken Hill\n",
      "Provideniya\n",
      "Fayaoué\n",
      "Not Found. Skipping\n",
      "Kapaa\n",
      "La Ronge\n",
      "Saskylakh\n",
      "Arraial do Cabo\n",
      "Ürümqi\n",
      "Kishni\n",
      "Bredasdorp\n",
      "Lebu\n",
      "Ialibu\n",
      "Mapastepec\n",
      "Not Found. Skipping\n",
      "Makat\n",
      "Nosy Varika\n",
      "Meadow Lake\n",
      "Oliver\n",
      "Taicheng\n",
      "Salalah\n",
      "Berdyaush\n",
      "Soyo\n",
      "Muroto-misakicho\n",
      "Pangnirtung\n",
      "Not Found. Skipping\n",
      "Mahébourg\n",
      "Villa Zempoala\n",
      "Puerto Ayora\n",
      "Duncan\n",
      "Aquiraz\n",
      "Srandakan\n",
      "Amalāpuram\n",
      "Katsuura\n",
      "Vytegra\n",
      "College\n",
      "Tongliao\n",
      "Rawson\n",
      "Pacific Grove\n",
      "Sibolga\n",
      "Ahipara\n",
      "Ginda\n",
      "Sechura\n",
      "Aklavik\n",
      "Huancavelica\n",
      "Dwārka\n",
      "Mwinilunga\n",
      "Chokurdakh\n",
      "Shakawe\n",
      "Vysokogornyy\n",
      "Ribeira Grande\n",
      "Ampanihy\n",
      "Wenzhou\n",
      "Torbay\n",
      "Kodinsk\n",
      "Tuatapere\n",
      "Not Found. Skipping\n",
      "Severo-Kuril'sk\n",
      "Bethel\n",
      "Marsá Maţrūḩ\n",
      "Kokstad\n",
      "Not Found. Skipping\n",
      "Ilulissat\n",
      "Kyren\n",
      "Mpulungu\n",
      "Not Found. Skipping\n",
      "Aswān\n",
      "Not Found. Skipping\n",
      "Sola\n",
      "Concepción del Oro\n",
      "Port Lincoln\n",
      "Tāsgaon\n",
      "Morehead\n",
      "Insar\n",
      "Not Found. Skipping\n",
      "Ewo\n",
      "Gamba\n",
      "Carahue\n",
      "Arawa\n",
      "Grand Gaube\n",
      "Youghal\n",
      "Faanui\n",
      "Gualdo Tadino\n",
      "Carutapera\n",
      "Valdivia\n",
      "Santa Isabel Rio Negro\n",
      "Rodino\n",
      "Sur\n",
      "Ancud\n",
      "Zaysan\n",
      "Haines Junction\n",
      "Los Alamos\n",
      "Aykhal\n",
      "Atambua\n",
      "Porosozero\n",
      "Ukiah\n",
      "Tilichiki\n",
      "Not Found. Skipping\n",
      "Basco\n",
      "Inhambane\n",
      "Kwang Binh\n",
      "Saldanha\n",
      "São Félix do Xingu\n",
      "Nsanje\n",
      "Ryazan\n",
      "Cayenne\n",
      "Campbeltown\n",
      "Not Found. Skipping\n",
      "Samarai\n",
      "Labuan\n",
      "Zhezkazgan\n",
      "Karpathos\n",
      "Biak\n",
      "Camargo\n",
      "Miquelon\n",
      "Jiuquan\n",
      "Lorengau\n",
      "Buchanan\n",
      "Lusambo\n",
      "Marrakesh\n",
      "Kalanguy\n",
      "Perevolotskiy\n",
      "Codrington\n",
      "Buenos Aires\n",
      "Port Hardy\n",
      "Not Found. Skipping\n",
      "Puerto Nariño\n",
      "Najrān\n",
      "Lavrentiya\n",
      "Russell\n",
      "Poum\n",
      "Pachino\n",
      "Kenai\n",
      "Sernur\n",
      "Mount Gambier\n",
      "Okha\n",
      "George Town\n",
      "Tafo\n",
      "Thinadhoo\n",
      "Not Found. Skipping\n",
      "Isangel\n",
      "Valparaíso\n",
      "Merauke\n",
      "Luena\n",
      "Singaraja\n",
      "Not Found. Skipping\n",
      "East London\n",
      "Bubaque\n",
      "Srednekolymsk\n",
      "Cabo San Lucas\n",
      "Ulety\n",
      "Aksu\n",
      "Plettenberg Bay\n",
      "‘Ewa Beach\n",
      "Not Found. Skipping\n",
      "Bossangoa\n",
      "Kiunga\n",
      "Ayagoz\n",
      "Deputatsky\n",
      "Dhidhdhoo\n",
      "Paamiut\n",
      "Saint George\n",
      "Quatre Cocos\n",
      "Pokosnoye\n",
      "Not Found. Skipping\n",
      "Newport\n",
      "Ishigaki\n",
      "Marsh Harbour\n",
      "Zhigansk\n",
      "Bolobo\n",
      "Edd\n",
      "Igarka\n",
      "Whitehorse\n",
      "Hamilton\n",
      "General José Eduvigis Díaz\n",
      "Alofi\n",
      "Not Found. Skipping\n",
      "The Valley\n",
      "Chimbote\n",
      "Pangai\n",
      "Chapais\n",
      "Linköping\n",
      "Vardø\n",
      "Kavaratti\n",
      "Mt. Pleasant\n",
      "Padang\n",
      "Dudinka\n",
      "Sitka\n",
      "Ambanja\n",
      "Kiryat Gat\n",
      "Madimba\n",
      "Bathsheba\n",
      "Sharjah city\n",
      "Margate\n",
      "Nioro\n",
      "Vanavara\n",
      "Ostrovnoy\n",
      "Galle\n",
      "Los Llanos de Aridane\n",
      "Kostomuksha\n",
      "Not Found. Skipping\n",
      "Lida\n",
      "Saint-Philippe\n",
      "Hurghada\n",
      "São Gabriel da Cachoeira\n",
      "Bambous Virieux\n",
      "Talcahuano\n",
      "Ugoofaaru\n",
      "Ovsyanka\n",
      "Las Vegas\n",
      "San Jose de Guanipa\n",
      "Sakakah\n",
      "Coyhaique\n",
      "Adelaide\n",
      "Egvekinot\n",
      "Port Elizabeth\n",
      "Moirāng\n",
      "Gari\n",
      "Meulaboh\n",
      "Severodvinsk\n",
      "Vaitape\n",
      "Yeniseysk\n",
      "Not Found. Skipping\n",
      "Cabedelo\n",
      "Havre-St-Pierre\n",
      "Ketchikan\n",
      "Dunedin\n",
      "Khovd\n",
      "Buala\n",
      "Sangmélima\n",
      "Khargone\n",
      "Santa Maria\n",
      "Broşteni\n",
      "Suntar\n",
      "Preeceville\n",
      "Ionia\n",
      "Tiksi\n",
      "Izumo\n",
      "Atbasar\n",
      "Esperance\n",
      "Aného\n",
      "Not Found. Skipping\n",
      "Poronaysk\n",
      "Northam\n",
      "Khelyulya\n",
      "São João da Barra\n",
      "Adrar\n",
      "Māgadi\n",
      "Antofagasta\n",
      "Coruripe\n",
      "Itarema\n",
      "Redmond\n",
      "Hithadhoo\n",
      "Arman'\n",
      "Naīgarhi\n",
      "Westport\n",
      "Not Found. Skipping\n",
      "Ichhāwar\n",
      "Mandalgovi\n",
      "Kadoshkino\n",
      "Ust'-Uda\n",
      "Vilhena\n",
      "Pailón\n",
      "Mackenzie\n",
      "Honiara\n",
      "North Platte\n",
      "Saýat\n",
      "Cullman\n",
      "Port Shepstone\n",
      "Hong Kong\n",
      "Talnakh\n",
      "Not Found. Skipping\n",
      "Mackay\n",
      "Benghazi\n",
      "Not Found. Skipping\n",
      "Sawākin\n",
      "Ha Giang\n",
      "Kavieng\n",
      "Amoy\n",
      "Reynosa\n",
      "San Quintín\n",
      "Arrondissement d'Ajaccio\n",
      "Dukat\n",
      "Not Found. Skipping\n",
      "Not Found. Skipping\n",
      "San Ramon\n",
      "Presidente Venceslau\n",
      "Waddān\n",
      "Touros\n",
      "Naryan-Mar\n",
      "Abu Samrah\n",
      "Kununurra\n",
      "Raymond\n",
      "Buraidah\n",
      "Masvingo\n",
      "Evensk\n",
      "Flinders\n",
      "Mpika\n",
      "Cody\n",
      "Harindānga\n",
      "Guerrero Negro\n",
      "Waipawa\n",
      "Stykkisholmur\n",
      "Not Found. Skipping\n",
      "Kulhudhuffushi\n",
      "Conde\n",
      "Bāfq\n",
      "Henties Bay\n",
      "Nyurba\n",
      "Marzuq\n",
      "Caceres\n",
      "Chumikan\n",
      "Loei\n",
      "Chitral\n",
      "Dongsheng\n",
      "Beringovskiy\n",
      "Tambopata\n",
      "Karaidel'\n",
      "Prince Rupert\n",
      "Santiago del Estero\n",
      "Issia\n",
      "Belaya Gora\n",
      "Cua\n",
      "Kruisfontein\n",
      "Kaeo\n",
      "San Isidro\n",
      "Mana\n",
      "Whitefish\n",
      "Glodeni\n",
      "Longyearbyen\n",
      "Khani\n",
      "Shādegān\n",
      "Half Moon Bay\n",
      "San Patricio\n",
      "Hammerfest\n",
      "Chinchani\n",
      "Avera\n",
      "Omboué\n",
      "Ruwi\n",
      "Jönköping\n",
      "Dzaoudzi\n",
      "Not Found. Skipping\n",
      "Rafaela\n",
      "Bilibino\n",
      "Pevek\n",
      "Narón\n",
      "Kungurtug\n",
      "Pánuco\n",
      "Pundaguitan\n",
      "Saint-Pierre\n",
      "Marawi\n",
      "Maun\n",
      "Not Found. Skipping\n",
      "Kumluca\n",
      "Praia\n",
      "Nizhniy Baskunchak\n",
      "Souillac\n",
      "Shingū\n",
      "Rzhev\n",
      "Richards Bay\n",
      "Williams Lake\n",
      "Vila Velha\n",
      "Bambanglipuro\n",
      "Churapcha\n",
      "Huarmey\n",
      "Porbandar\n",
      "Not Found. Skipping\n",
      "Tornio\n",
      "Batagay-Alyta\n",
      "Belyy Yar\n",
      "Utena\n",
      "Azare\n",
      "Radès\n",
      "Vanderhoof\n",
      "Bahçe\n",
      "Markova\n",
      "Kahului\n",
      "Grindavik\n",
      "Maragogi\n",
      "Byron Bay\n",
      "Baykit\n",
      "Rongcheng\n",
      "San Andrés\n",
      "Asău\n",
      "Bogovarovo\n",
      "Rūdbār\n",
      "Terdāl\n",
      "Carlsbad\n",
      "Tonalá\n",
      "Itoman\n",
      "Not Found. Skipping\n",
      "Not Found. Skipping\n",
      "Norman Wells\n",
      "Noyon\n",
      "Azpeitia\n",
      "Ṭikāpur\n",
      "Shebalino\n",
      "Berlevåg\n",
      "Maceió\n",
      "Port-Gentil\n",
      "São João Batista\n",
      "‘Āhuimanu\n",
      "Gondanglegi\n",
      "Tarabuco\n",
      "Palmer\n",
      "Mujiayingzi\n",
      "Zaranj\n",
      "Acaraú\n",
      "Kilindoni\n",
      "Venice\n",
      "Vaasa\n",
      "Not Found. Skipping\n",
      "Yangi Marg`ilon\n",
      "Catacocha\n",
      "Cairns\n",
      "Lokot'\n",
      "Tawang Town\n",
      "Mokhotlong\n",
      "Ljungby\n",
      "Faya\n",
      "Luwuk\n",
      "Siniscola\n",
      "Tessalit\n",
      "Quelimane\n",
      "Porto Seguro\n",
      "Baghdad\n",
      "Acajutla\n",
      "Ust-Tsilma\n",
      "Kokopo\n",
      "Agüimes\n",
      "Fuerte Olimpo\n",
      "Coquimbo\n",
      "Hājīpur\n",
      "Arrondissement de Villefranche-de-Rouergue\n",
      "Mvuma\n",
      "Khāsh\n",
      "Mitsamiouli\n",
      "Veseloyarsk\n",
      "Kokuy\n",
      "Vila Franca do Campo\n",
      "Not Found. Skipping\n",
      "Jiangkou\n",
      "Not Found. Skipping\n",
      "Ojinaga\n",
      "Bantry\n",
      "Manuk Mangkaw\n",
      "Hoquiam\n",
      "Port Augusta\n",
      "Zhangaözen\n",
      "Palora\n",
      "Ambilobe\n",
      "Puerto Colombia\n",
      "Innisfail\n",
      "Yorkton\n",
      "Otaru\n",
      "Huaicheng\n",
      "Korla\n",
      "Kaniama\n",
      "Not Found. Skipping\n",
      "Hambantota\n",
      "Maniitsoq\n",
      "Malé\n",
      "Khasan\n",
      "Tintigny\n",
      "Pushkinskiye Gory\n",
      "Ibipeba\n"
     ]
    }
   ],
   "source": [
    "url = \"http://api.openweathermap.org/data/2.5/weather?\"\n",
    "units = \"metric\"\n",
    "\n",
    "# Build partial query URL\n",
    "query_url = f\"{url}appid={weather_api_key}&units={units}&q=\"\n",
    "\n",
    "#lists for data\n",
    "temp = []\n",
    "lat = []\n",
    "lng = []\n",
    "hum = []\n",
    "cld = []\n",
    "mxTmp = []\n",
    "citNm = []\n",
    "wnd = []\n",
    "# Loop through the list of cities and perform a request for data on each\n",
    "for city in cities:\n",
    "    response = requests.get(query_url + city).json()\n",
    "    try:\n",
    "        print(response['name'])    \n",
    "        temp.append(response['main']['temp'])\n",
    "        lat.append(response['coord']['lat'])\n",
    "        lng.append(response['coord']['lon'])\n",
    "        hum.append(response['main']['humidity'])\n",
    "        cld.append(response['clouds']['all'])\n",
    "        mxTmp.append(response['main']['temp_max'])\n",
    "        citNm.append(response['name'])\n",
    "        wnd.append(response['wind']['speed'])\n",
    "    except:\n",
    "        print(\"Not Found. Skipping\")\n",
    "        pass\n",
    "    #add Rest\n",
    "    \n",
    "    time.sleep(1)\n",
    "\n"
   ]
  },
  {
   "cell_type": "code",
   "execution_count": 30,
   "metadata": {
    "scrolled": true
   },
   "outputs": [
    {
     "data": {
      "text/html": [
       "<div>\n",
       "<style scoped>\n",
       "    .dataframe tbody tr th:only-of-type {\n",
       "        vertical-align: middle;\n",
       "    }\n",
       "\n",
       "    .dataframe tbody tr th {\n",
       "        vertical-align: top;\n",
       "    }\n",
       "\n",
       "    .dataframe thead th {\n",
       "        text-align: right;\n",
       "    }\n",
       "</style>\n",
       "<table border=\"1\" class=\"dataframe\">\n",
       "  <thead>\n",
       "    <tr style=\"text-align: right;\">\n",
       "      <th></th>\n",
       "      <th>City Name</th>\n",
       "      <th>Temperature</th>\n",
       "      <th>Maximum Temp</th>\n",
       "      <th>Wind</th>\n",
       "      <th>Cloudiness</th>\n",
       "      <th>Latitude</th>\n",
       "      <th>Longitude</th>\n",
       "      <th>Humidity</th>\n",
       "    </tr>\n",
       "  </thead>\n",
       "  <tbody>\n",
       "    <tr>\n",
       "      <th>0</th>\n",
       "      <td>Ayr</td>\n",
       "      <td>7.91</td>\n",
       "      <td>8.00</td>\n",
       "      <td>12.35</td>\n",
       "      <td>75</td>\n",
       "      <td>55.4627</td>\n",
       "      <td>-4.6339</td>\n",
       "      <td>93</td>\n",
       "    </tr>\n",
       "    <tr>\n",
       "      <th>1</th>\n",
       "      <td>Qaanaaq</td>\n",
       "      <td>-15.08</td>\n",
       "      <td>-15.08</td>\n",
       "      <td>1.59</td>\n",
       "      <td>92</td>\n",
       "      <td>77.4840</td>\n",
       "      <td>-69.3632</td>\n",
       "      <td>83</td>\n",
       "    </tr>\n",
       "    <tr>\n",
       "      <th>2</th>\n",
       "      <td>Avarua</td>\n",
       "      <td>28.00</td>\n",
       "      <td>28.00</td>\n",
       "      <td>3.60</td>\n",
       "      <td>90</td>\n",
       "      <td>-21.2078</td>\n",
       "      <td>-159.7750</td>\n",
       "      <td>74</td>\n",
       "    </tr>\n",
       "    <tr>\n",
       "      <th>3</th>\n",
       "      <td>Ushuaia</td>\n",
       "      <td>18.00</td>\n",
       "      <td>18.00</td>\n",
       "      <td>5.66</td>\n",
       "      <td>40</td>\n",
       "      <td>-54.8000</td>\n",
       "      <td>-68.3000</td>\n",
       "      <td>45</td>\n",
       "    </tr>\n",
       "    <tr>\n",
       "      <th>4</th>\n",
       "      <td>Lensk</td>\n",
       "      <td>-11.78</td>\n",
       "      <td>-11.78</td>\n",
       "      <td>6.88</td>\n",
       "      <td>100</td>\n",
       "      <td>60.7253</td>\n",
       "      <td>114.9278</td>\n",
       "      <td>91</td>\n",
       "    </tr>\n",
       "  </tbody>\n",
       "</table>\n",
       "</div>"
      ],
      "text/plain": [
       "  City Name  Temperature  Maximum Temp   Wind  Cloudiness  Latitude  \\\n",
       "0       Ayr         7.91          8.00  12.35          75   55.4627   \n",
       "1   Qaanaaq       -15.08        -15.08   1.59          92   77.4840   \n",
       "2    Avarua        28.00         28.00   3.60          90  -21.2078   \n",
       "3   Ushuaia        18.00         18.00   5.66          40  -54.8000   \n",
       "4     Lensk       -11.78        -11.78   6.88         100   60.7253   \n",
       "\n",
       "   Longitude  Humidity  \n",
       "0    -4.6339        93  \n",
       "1   -69.3632        83  \n",
       "2  -159.7750        74  \n",
       "3   -68.3000        45  \n",
       "4   114.9278        91  "
      ]
     },
     "execution_count": 30,
     "metadata": {},
     "output_type": "execute_result"
    }
   ],
   "source": [
    "# I made a disc tionary of lists containing al the collected data. \n",
    "dl = {\"City Name\": citNm,\\\n",
    "      \"Temperature\": temp,\\\n",
    "      \"Maximum Temp\": mxTmp,\\\n",
    "      \"Wind\": wnd,\\\n",
    "      \"Cloudiness\": cld,\\\n",
    "      'Latitude': lat,\\\n",
    "      'Longitude':lng,\\\n",
    "      'Humidity': hum}\n",
    "#I then made that dictionary of lists into a Data Frame\n",
    "df = pd.DataFrame(dl)\n",
    "df.head()\n",
    "\n",
    "    #print(json.dumps(response, indent=4, sort_keys=True)) "
   ]
  },
  {
   "cell_type": "code",
   "execution_count": 31,
   "metadata": {},
   "outputs": [],
   "source": [
    "df.to_csv('/Users/tourtoiseshell/Desktop/API Homework/python-API-Homework/06-Python-APIs copy/Instructions/starter_code/city_weather.csv', index = False)\n"
   ]
  },
  {
   "cell_type": "markdown",
   "metadata": {},
   "source": [
    "### Convert Raw Data to DataFrame\n",
    "* Export the city data into a .csv.\n",
    "* Display the DataFrame"
   ]
  },
  {
   "cell_type": "code",
   "execution_count": 55,
   "metadata": {},
   "outputs": [
    {
     "data": {
      "text/html": [
       "<div>\n",
       "<style scoped>\n",
       "    .dataframe tbody tr th:only-of-type {\n",
       "        vertical-align: middle;\n",
       "    }\n",
       "\n",
       "    .dataframe tbody tr th {\n",
       "        vertical-align: top;\n",
       "    }\n",
       "\n",
       "    .dataframe thead th {\n",
       "        text-align: right;\n",
       "    }\n",
       "</style>\n",
       "<table border=\"1\" class=\"dataframe\">\n",
       "  <thead>\n",
       "    <tr style=\"text-align: right;\">\n",
       "      <th></th>\n",
       "      <th>City Name</th>\n",
       "      <th>Temperature</th>\n",
       "      <th>Maximum Temp</th>\n",
       "      <th>Wind</th>\n",
       "      <th>Cloudiness</th>\n",
       "      <th>Latitude</th>\n",
       "      <th>Longitude</th>\n",
       "      <th>Humidity</th>\n",
       "    </tr>\n",
       "  </thead>\n",
       "  <tbody>\n",
       "    <tr>\n",
       "      <th>521</th>\n",
       "      <td>Acajutla</td>\n",
       "      <td>29.51</td>\n",
       "      <td>32.00</td>\n",
       "      <td>4.12</td>\n",
       "      <td>0</td>\n",
       "      <td>13.5928</td>\n",
       "      <td>-89.8275</td>\n",
       "      <td>29</td>\n",
       "    </tr>\n",
       "    <tr>\n",
       "      <th>138</th>\n",
       "      <td>Mapastepec</td>\n",
       "      <td>31.72</td>\n",
       "      <td>31.72</td>\n",
       "      <td>2.30</td>\n",
       "      <td>47</td>\n",
       "      <td>15.4333</td>\n",
       "      <td>-92.9000</td>\n",
       "      <td>38</td>\n",
       "    </tr>\n",
       "    <tr>\n",
       "      <th>229</th>\n",
       "      <td>Camargo</td>\n",
       "      <td>31.24</td>\n",
       "      <td>31.24</td>\n",
       "      <td>11.68</td>\n",
       "      <td>100</td>\n",
       "      <td>27.6667</td>\n",
       "      <td>-105.1667</td>\n",
       "      <td>10</td>\n",
       "    </tr>\n",
       "    <tr>\n",
       "      <th>196</th>\n",
       "      <td>Arawa</td>\n",
       "      <td>30.05</td>\n",
       "      <td>30.05</td>\n",
       "      <td>0.72</td>\n",
       "      <td>12</td>\n",
       "      <td>-6.2132</td>\n",
       "      <td>155.5367</td>\n",
       "      <td>57</td>\n",
       "    </tr>\n",
       "    <tr>\n",
       "      <th>285</th>\n",
       "      <td>General José Eduvigis Díaz</td>\n",
       "      <td>29.06</td>\n",
       "      <td>30.00</td>\n",
       "      <td>2.57</td>\n",
       "      <td>20</td>\n",
       "      <td>-27.1667</td>\n",
       "      <td>-58.4167</td>\n",
       "      <td>37</td>\n",
       "    </tr>\n",
       "    <tr>\n",
       "      <th>...</th>\n",
       "      <td>...</td>\n",
       "      <td>...</td>\n",
       "      <td>...</td>\n",
       "      <td>...</td>\n",
       "      <td>...</td>\n",
       "      <td>...</td>\n",
       "      <td>...</td>\n",
       "      <td>...</td>\n",
       "    </tr>\n",
       "    <tr>\n",
       "      <th>296</th>\n",
       "      <td>Dudinka</td>\n",
       "      <td>-28.98</td>\n",
       "      <td>-28.98</td>\n",
       "      <td>2.84</td>\n",
       "      <td>100</td>\n",
       "      <td>69.4058</td>\n",
       "      <td>86.1778</td>\n",
       "      <td>88</td>\n",
       "    </tr>\n",
       "    <tr>\n",
       "      <th>81</th>\n",
       "      <td>Dikson</td>\n",
       "      <td>-30.77</td>\n",
       "      <td>-30.77</td>\n",
       "      <td>2.36</td>\n",
       "      <td>100</td>\n",
       "      <td>73.5069</td>\n",
       "      <td>80.5464</td>\n",
       "      <td>88</td>\n",
       "    </tr>\n",
       "    <tr>\n",
       "      <th>37</th>\n",
       "      <td>Khatanga</td>\n",
       "      <td>-31.09</td>\n",
       "      <td>-31.09</td>\n",
       "      <td>4.99</td>\n",
       "      <td>100</td>\n",
       "      <td>71.9667</td>\n",
       "      <td>102.5000</td>\n",
       "      <td>86</td>\n",
       "    </tr>\n",
       "    <tr>\n",
       "      <th>131</th>\n",
       "      <td>Saskylakh</td>\n",
       "      <td>-33.33</td>\n",
       "      <td>-33.33</td>\n",
       "      <td>3.42</td>\n",
       "      <td>60</td>\n",
       "      <td>71.9167</td>\n",
       "      <td>114.0833</td>\n",
       "      <td>84</td>\n",
       "    </tr>\n",
       "    <tr>\n",
       "      <th>323</th>\n",
       "      <td>Egvekinot</td>\n",
       "      <td>-33.57</td>\n",
       "      <td>-33.57</td>\n",
       "      <td>0.68</td>\n",
       "      <td>52</td>\n",
       "      <td>66.3167</td>\n",
       "      <td>-179.1667</td>\n",
       "      <td>86</td>\n",
       "    </tr>\n",
       "  </tbody>\n",
       "</table>\n",
       "<p>558 rows × 8 columns</p>\n",
       "</div>"
      ],
      "text/plain": [
       "                      City Name  Temperature  Maximum Temp   Wind  Cloudiness  \\\n",
       "521                    Acajutla        29.51         32.00   4.12           0   \n",
       "138                  Mapastepec        31.72         31.72   2.30          47   \n",
       "229                     Camargo        31.24         31.24  11.68         100   \n",
       "196                       Arawa        30.05         30.05   0.72          12   \n",
       "285  General José Eduvigis Díaz        29.06         30.00   2.57          20   \n",
       "..                          ...          ...           ...    ...         ...   \n",
       "296                     Dudinka       -28.98        -28.98   2.84         100   \n",
       "81                       Dikson       -30.77        -30.77   2.36         100   \n",
       "37                     Khatanga       -31.09        -31.09   4.99         100   \n",
       "131                   Saskylakh       -33.33        -33.33   3.42          60   \n",
       "323                   Egvekinot       -33.57        -33.57   0.68          52   \n",
       "\n",
       "     Latitude  Longitude  Humidity  \n",
       "521   13.5928   -89.8275        29  \n",
       "138   15.4333   -92.9000        38  \n",
       "229   27.6667  -105.1667        10  \n",
       "196   -6.2132   155.5367        57  \n",
       "285  -27.1667   -58.4167        37  \n",
       "..        ...        ...       ...  \n",
       "296   69.4058    86.1778        88  \n",
       "81    73.5069    80.5464        88  \n",
       "37    71.9667   102.5000        86  \n",
       "131   71.9167   114.0833        84  \n",
       "323   66.3167  -179.1667        86  \n",
       "\n",
       "[558 rows x 8 columns]"
      ]
     },
     "execution_count": 55,
     "metadata": {},
     "output_type": "execute_result"
    }
   ],
   "source": [
    "#No cities have a humidity above 100\n",
    "df.sort_values(by=['Maximum Temp'],  ascending=False)\n"
   ]
  },
  {
   "cell_type": "markdown",
   "metadata": {},
   "source": [
    "## Inspect the data and remove the cities where the humidity > 100%.\n",
    "----\n",
    "Skip this step if there are no cities that have humidity > 100%. "
   ]
  },
  {
   "cell_type": "code",
   "execution_count": 38,
   "metadata": {
    "scrolled": true
   },
   "outputs": [
    {
     "data": {
      "image/png": "[encoded data removed]",
      "text/plain": [
       "<Figure size 432x288 with 1 Axes>"
      ]
     },
     "metadata": {
      "needs_background": "light"
     },
     "output_type": "display_data"
    }
   ],
   "source": [
    "#This is a table of latitude vs Maximum Temp.\n",
    "x_values = df['Latitude']\n",
    "y_values = df['Maximum Temp']\n",
    "plt.scatter(x_values,y_values)\n",
    "plt.xlabel('Latitude')\n",
    "plt.ylabel('Maximum Temperature')\n",
    "plt.title('City Latitude vs Max Temperature 3/09/2021')\n",
    "plt.show()\n"
   ]
  },
  {
   "cell_type": "code",
   "execution_count": null,
   "metadata": {},
   "outputs": [],
   "source": [
    "#Impression: There seems to be a fairly dense arc of plots on this scatter plot that maps max temp in \n",
    "#relation to Latitude."
   ]
  },
  {
   "cell_type": "markdown",
   "metadata": {},
   "source": [
    "## Latitude vs. Humidity Plot"
   ]
  },
  {
   "cell_type": "code",
   "execution_count": 42,
   "metadata": {
    "scrolled": true
   },
   "outputs": [
    {
     "data": {
      "image/png": "[encoded data removed]",
      "text/plain": [
       "<Figure size 432x288 with 1 Axes>"
      ]
     },
     "metadata": {
      "needs_background": "light"
     },
     "output_type": "display_data"
    }
   ],
   "source": [
    "x_values = df['Latitude']\n",
    "y_values = df['Humidity']\n",
    "plt.scatter(x_values,y_values)\n",
    "plt.xlabel('Latitude')\n",
    "plt.ylabel('Humidity')\n",
    "plt.title('City Latitude vs Humidity 3/09/2021')\n",
    "plt.show()\n"
   ]
  },
  {
   "cell_type": "code",
   "execution_count": null,
   "metadata": {},
   "outputs": [],
   "source": [
    "#Impression: There seems to be cliusters but not much of an onvious trend in this scatter plot of Humidity vs Latitude."
   ]
  },
  {
   "cell_type": "code",
   "execution_count": 45,
   "metadata": {
    "scrolled": true
   },
   "outputs": [
    {
     "data": {
      "image/png": "[encoded data removed]",
      "text/plain": [
       "<Figure size 432x288 with 1 Axes>"
      ]
     },
     "metadata": {
      "needs_background": "light"
     },
     "output_type": "display_data"
    }
   ],
   "source": [
    "x_values = df['Latitude']\n",
    "y_values = df['Cloudiness']\n",
    "plt.scatter(x_values,y_values)\n",
    "plt.xlabel('Latitude')\n",
    "plt.ylabel('Cloudiness')\n",
    "plt.title('City Latitude vs Cloudiness 3/09/2021')\n",
    "plt.grid(True)\n",
    "plt.show()"
   ]
  },
  {
   "cell_type": "code",
   "execution_count": null,
   "metadata": {},
   "outputs": [],
   "source": [
    "#Impression: There is clustering along the y axis as certain percentages of couldiness are common regardless \n",
    "# of Latitude. "
   ]
  },
  {
   "cell_type": "code",
   "execution_count": 46,
   "metadata": {
    "scrolled": true
   },
   "outputs": [
    {
     "data": {
      "image/png": "[encoded data removed]",
      "text/plain": [
       "<Figure size 432x288 with 1 Axes>"
      ]
     },
     "metadata": {
      "needs_background": "light"
     },
     "output_type": "display_data"
    }
   ],
   "source": [
    "x_values = df['Latitude']\n",
    "y_values = df['Wind']\n",
    "plt.scatter(x_values,y_values)\n",
    "plt.xlabel('Latitude')\n",
    "plt.ylabel('Wind')\n",
    "plt.title('City Latitude vs Wind 3/09/2021')\n",
    "plt.grid(True)\n",
    "plt.show()"
   ]
  },
  {
   "cell_type": "code",
   "execution_count": null,
   "metadata": {},
   "outputs": [],
   "source": [
    "#Impression: There is an inverse bell curve concerning wind speed suggesting that the most severe wind is to be found\n",
    "# at the most extreme Latitudes."
   ]
  },
  {
   "cell_type": "markdown",
   "metadata": {},
   "source": [
    "## Linear Regression"
   ]
  },
  {
   "cell_type": "code",
   "execution_count": 52,
   "metadata": {},
   "outputs": [
    {
     "data": {
      "text/html": [
       "<div>\n",
       "<style scoped>\n",
       "    .dataframe tbody tr th:only-of-type {\n",
       "        vertical-align: middle;\n",
       "    }\n",
       "\n",
       "    .dataframe tbody tr th {\n",
       "        vertical-align: top;\n",
       "    }\n",
       "\n",
       "    .dataframe thead th {\n",
       "        text-align: right;\n",
       "    }\n",
       "</style>\n",
       "<table border=\"1\" class=\"dataframe\">\n",
       "  <thead>\n",
       "    <tr style=\"text-align: right;\">\n",
       "      <th></th>\n",
       "      <th>City Name</th>\n",
       "      <th>Temperature</th>\n",
       "      <th>Maximum Temp</th>\n",
       "      <th>Wind</th>\n",
       "      <th>Cloudiness</th>\n",
       "      <th>Latitude</th>\n",
       "      <th>Longitude</th>\n",
       "      <th>Humidity</th>\n",
       "    </tr>\n",
       "  </thead>\n",
       "  <tbody>\n",
       "    <tr>\n",
       "      <th>2</th>\n",
       "      <td>Avarua</td>\n",
       "      <td>28.00</td>\n",
       "      <td>28.00</td>\n",
       "      <td>3.60</td>\n",
       "      <td>90</td>\n",
       "      <td>-21.2078</td>\n",
       "      <td>-159.7750</td>\n",
       "      <td>74</td>\n",
       "    </tr>\n",
       "    <tr>\n",
       "      <th>3</th>\n",
       "      <td>Ushuaia</td>\n",
       "      <td>18.00</td>\n",
       "      <td>18.00</td>\n",
       "      <td>5.66</td>\n",
       "      <td>40</td>\n",
       "      <td>-54.8000</td>\n",
       "      <td>-68.3000</td>\n",
       "      <td>45</td>\n",
       "    </tr>\n",
       "    <tr>\n",
       "      <th>13</th>\n",
       "      <td>Chicama</td>\n",
       "      <td>24.00</td>\n",
       "      <td>24.00</td>\n",
       "      <td>3.09</td>\n",
       "      <td>75</td>\n",
       "      <td>-7.8447</td>\n",
       "      <td>-79.1469</td>\n",
       "      <td>83</td>\n",
       "    </tr>\n",
       "    <tr>\n",
       "      <th>18</th>\n",
       "      <td>Port Macquarie</td>\n",
       "      <td>21.94</td>\n",
       "      <td>22.22</td>\n",
       "      <td>0.45</td>\n",
       "      <td>98</td>\n",
       "      <td>-31.4333</td>\n",
       "      <td>152.9167</td>\n",
       "      <td>86</td>\n",
       "    </tr>\n",
       "    <tr>\n",
       "      <th>22</th>\n",
       "      <td>Kaitangata</td>\n",
       "      <td>12.35</td>\n",
       "      <td>12.35</td>\n",
       "      <td>4.15</td>\n",
       "      <td>100</td>\n",
       "      <td>-46.2817</td>\n",
       "      <td>169.8464</td>\n",
       "      <td>88</td>\n",
       "    </tr>\n",
       "  </tbody>\n",
       "</table>\n",
       "</div>"
      ],
      "text/plain": [
       "         City Name  Temperature  Maximum Temp  Wind  Cloudiness  Latitude  \\\n",
       "2           Avarua        28.00         28.00  3.60          90  -21.2078   \n",
       "3          Ushuaia        18.00         18.00  5.66          40  -54.8000   \n",
       "13         Chicama        24.00         24.00  3.09          75   -7.8447   \n",
       "18  Port Macquarie        21.94         22.22  0.45          98  -31.4333   \n",
       "22      Kaitangata        12.35         12.35  4.15         100  -46.2817   \n",
       "\n",
       "    Longitude  Humidity  \n",
       "2   -159.7750        74  \n",
       "3    -68.3000        45  \n",
       "13   -79.1469        83  \n",
       "18   152.9167        86  \n",
       "22   169.8464        88  "
      ]
     },
     "execution_count": 52,
     "metadata": {},
     "output_type": "execute_result"
    }
   ],
   "source": [
    "# I need two new data frames. One for the northern hemisphere and one for the southern hemisphere. \n",
    "ndf = df.loc[df[\"Latitude\"] > 0]\n",
    "sdf = df.loc[df[\"Latitude\"] < 0]"
   ]
  },
  {
   "cell_type": "code",
   "execution_count": 63,
   "metadata": {},
   "outputs": [
    {
     "name": "stdout",
     "output_type": "stream",
     "text": [
      "R-Value-0.8974507334269495\n"
     ]
    },
    {
     "data": {
      "image/png": "[encoded data removed]",
      "text/plain": [
       "<Figure size 432x288 with 1 Axes>"
      ]
     },
     "metadata": {
      "needs_background": "light"
     },
     "output_type": "display_data"
    }
   ],
   "source": [
    "#stat scatterplot and establish values to get linear regressin.\n",
    "x_values = ndf['Latitude']\n",
    "y_values = ndf['Maximum Temp']\n",
    "#calculate needed values for linear regression\n",
    "res = linregress(x_values, y_values)\n",
    "#Square r\n",
    "rsqd = res.rvalue**2\n",
    "#Plot Line on scatter plot\n",
    "plt.plot(x_values, res.intercept + res.slope*x_values, 'g')\n",
    "plt.scatter(x_values,y_values)\n",
    "plt.xlabel('Latitude')\n",
    "plt.ylabel('Maximum Temperature')\n",
    "plt.title('Northern Hemisphere - City Latitude vs Max Temperature with linear regression')\n",
    "print(f'R-Value{res.rvalue}')\n",
    "plt.show()"
   ]
  },
  {
   "cell_type": "code",
   "execution_count": 65,
   "metadata": {},
   "outputs": [
    {
     "name": "stdout",
     "output_type": "stream",
     "text": [
      "R-Value0.5337712453666977\n"
     ]
    },
    {
     "data": {
      "image/png": "[encoded data removed]",
      "text/plain": [
       "<Figure size 432x288 with 1 Axes>"
      ]
     },
     "metadata": {
      "needs_background": "light"
     },
     "output_type": "display_data"
    }
   ],
   "source": [
    "#stat scatterplot and establish values to get linear regressin.\n",
    "x_values = sdf['Latitude']\n",
    "y_values = sdf['Maximum Temp']\n",
    "#calculate needed values for linear regression\n",
    "res = linregress(x_values, y_values)\n",
    "#Square r\n",
    "rsqd = res.rvalue**2\n",
    "#Plot Line on scatter plot\n",
    "plt.plot(x_values, res.intercept + res.slope*x_values, 'g')\n",
    "plt.scatter(x_values,y_values)\n",
    "plt.xlabel('Latitude')\n",
    "plt.ylabel('Maximum Temperature')\n",
    "plt.title('Southern Hemisphere - City Latitude vs Max Temperature with linear regression')\n",
    "print(f'R-Value{res.rvalue}')\n",
    "plt.show()"
   ]
  },
  {
   "cell_type": "code",
   "execution_count": null,
   "metadata": {},
   "outputs": [],
   "source": [
    "#Impressions: Te northern hemisphere seems to have a much steeper slope of it's line and less spread from the line indicating\n",
    "#higher corelation to latitude and temp when compared to the southern Hemisphere. "
   ]
  },
  {
   "cell_type": "code",
   "execution_count": 66,
   "metadata": {},
   "outputs": [
    {
     "name": "stdout",
     "output_type": "stream",
     "text": [
      "R-Value0.2906842697310692\n"
     ]
    },
    {
     "data": {
      "image/png": "[encoded data removed]",
      "text/plain": [
       "<Figure size 432x288 with 1 Axes>"
      ]
     },
     "metadata": {
      "needs_background": "light"
     },
     "output_type": "display_data"
    }
   ],
   "source": [
    "#stat scatterplot and establish values to get linear regressin.\n",
    "x_values = ndf['Latitude']\n",
    "y_values = ndf['Humidity']\n",
    "#calculate needed values for linear regression\n",
    "res = linregress(x_values, y_values)\n",
    "#Square r\n",
    "rsqd = res.rvalue**2\n",
    "#Plot Line on scatter plot\n",
    "plt.plot(x_values, res.intercept + res.slope*x_values, 'g')\n",
    "plt.scatter(x_values,y_values)\n",
    "plt.xlabel('Latitude')\n",
    "plt.ylabel('Maximum Temperature')\n",
    "plt.title('Northern Hemisphere - City Latitude vs Humidity with linear regression')\n",
    "print(f'R-Value{res.rvalue}')\n",
    "plt.show()"
   ]
  },
  {
   "cell_type": "code",
   "execution_count": 67,
   "metadata": {
    "scrolled": true
   },
   "outputs": [
    {
     "name": "stdout",
     "output_type": "stream",
     "text": [
      "R-Value0.2731438058744841\n"
     ]
    },
    {
     "data": {
      "image/png": "[encoded data removed]",
      "text/plain": [
       "<Figure size 432x288 with 1 Axes>"
      ]
     },
     "metadata": {
      "needs_background": "light"
     },
     "output_type": "display_data"
    }
   ],
   "source": [
    "#stat scatterplot and establish values to get linear regressin.\n",
    "x_values = sdf['Latitude']\n",
    "y_values = sdf['Humidity']\n",
    "#calculate needed values for linear regression\n",
    "res = linregress(x_values, y_values)\n",
    "#Square r\n",
    "rsqd = res.rvalue**2\n",
    "#Plot Line on scatter plot\n",
    "plt.plot(x_values, res.intercept + res.slope*x_values, 'g')\n",
    "plt.scatter(x_values,y_values)\n",
    "plt.xlabel('Latitude')\n",
    "plt.ylabel('Maximum Temperature')\n",
    "plt.title('Southern Hemisphere - City Latitude vs Humidity with linear regression')\n",
    "print(f'R-Value{res.rvalue}')\n",
    "plt.show()"
   ]
  },
  {
   "cell_type": "code",
   "execution_count": null,
   "metadata": {},
   "outputs": [],
   "source": [
    "#Impression: Since the equater is represented by the right of the Northern Hemisphere scatter plot and the right \n",
    "# of the Southern Hemisphere scatterplot the lines are actually sloped in the opposite direction. There appears to be a\n",
    "# low correlation though so the mildly apposing slopes seems to not be a very useful datum. "
   ]
  },
  {
   "cell_type": "code",
   "execution_count": 68,
   "metadata": {},
   "outputs": [
    {
     "name": "stdout",
     "output_type": "stream",
     "text": [
      "R-Value0.25112638038763546\n"
     ]
    },
    {
     "data": {
      "image/png": "[encoded data removed]",
      "text/plain": [
       "<Figure size 432x288 with 1 Axes>"
      ]
     },
     "metadata": {
      "needs_background": "light"
     },
     "output_type": "display_data"
    }
   ],
   "source": [
    "#stat scatterplot and establish values to get linear regressin.\n",
    "x_values = ndf['Latitude']\n",
    "y_values = ndf['Cloudiness']\n",
    "#calculate needed values for linear regression\n",
    "res = linregress(x_values, y_values)\n",
    "#Square r\n",
    "rsqd = res.rvalue**2\n",
    "#Plot Line on scatter plot\n",
    "plt.plot(x_values, res.intercept + res.slope*x_values, 'g')\n",
    "plt.scatter(x_values,y_values)\n",
    "plt.xlabel('Latitude')\n",
    "plt.ylabel('Maximum Temperature')\n",
    "plt.title('Northern Hemisphere - City Latitude vs Cloudiness with linear regression')\n",
    "print(f'R-Value{res.rvalue}')\n",
    "plt.show()"
   ]
  },
  {
   "cell_type": "code",
   "execution_count": 69,
   "metadata": {
    "scrolled": true
   },
   "outputs": [
    {
     "name": "stdout",
     "output_type": "stream",
     "text": [
      "R-Value0.08533687997943465\n"
     ]
    },
    {
     "data": {
      "image/png": "[encoded data removed]",
      "text/plain": [
       "<Figure size 432x288 with 1 Axes>"
      ]
     },
     "metadata": {
      "needs_background": "light"
     },
     "output_type": "display_data"
    }
   ],
   "source": [
    "#stat scatterplot and establish values to get linear regressin.\n",
    "x_values = sdf['Latitude']\n",
    "y_values = sdf['Cloudiness']\n",
    "#calculate needed values for linear regression\n",
    "res = linregress(x_values, y_values)\n",
    "#Square r\n",
    "rsqd = res.rvalue**2\n",
    "#Plot Line on scatter plot\n",
    "plt.plot(x_values, res.intercept + res.slope*x_values, 'g')\n",
    "plt.scatter(x_values,y_values)\n",
    "plt.xlabel('Latitude')\n",
    "plt.ylabel('Maximum Temperature')\n",
    "plt.title('Southern Hemisphere - City Latitude vs Cloudiness with linear regression')\n",
    "print(f'R-Value{res.rvalue}')\n",
    "plt.show()"
   ]
  },
  {
   "cell_type": "code",
   "execution_count": null,
   "metadata": {},
   "outputs": [],
   "source": [
    "#again the slopes seem to be opposite of eachother but due to a \n",
    "# very low correlation there is very little useful information in these scatter plots."
   ]
  },
  {
   "cell_type": "code",
   "execution_count": 70,
   "metadata": {},
   "outputs": [
    {
     "name": "stdout",
     "output_type": "stream",
     "text": [
      "R-Value0.03708423717426503\n"
     ]
    },
    {
     "data": {
      "image/png": "[encoded data removed]",
      "text/plain": [
       "<Figure size 432x288 with 1 Axes>"
      ]
     },
     "metadata": {
      "needs_background": "light"
     },
     "output_type": "display_data"
    }
   ],
   "source": [
    "#stat scatterplot and establish values to get linear regressin.\n",
    "x_values = ndf['Latitude']\n",
    "y_values = ndf['Wind']\n",
    "#calculate needed values for linear regression\n",
    "res = linregress(x_values, y_values)\n",
    "#Square r\n",
    "rsqd = res.rvalue**2\n",
    "#Plot Line on scatter plot\n",
    "plt.plot(x_values, res.intercept + res.slope*x_values, 'g')\n",
    "plt.scatter(x_values,y_values)\n",
    "plt.xlabel('Latitude')\n",
    "plt.ylabel('Maximum Temperature')\n",
    "plt.title('Northern Hemisphere - City Latitude vs Wind Speed with linear regression')\n",
    "print(f'R-Value{res.rvalue}')\n",
    "plt.show()"
   ]
  },
  {
   "cell_type": "code",
   "execution_count": 71,
   "metadata": {},
   "outputs": [
    {
     "name": "stdout",
     "output_type": "stream",
     "text": [
      "R-Value-0.27479879092726034\n"
     ]
    },
    {
     "data": {
      "image/png": "[encoded data removed]",
      "text/plain": [
       "<Figure size 432x288 with 1 Axes>"
      ]
     },
     "metadata": {
      "needs_background": "light"
     },
     "output_type": "display_data"
    }
   ],
   "source": [
    "#stat scatterplot and establish values to get linear regressin.\n",
    "x_values = sdf['Latitude']\n",
    "y_values = sdf['Wind']\n",
    "#calculate needed values for linear regression\n",
    "res = linregress(x_values, y_values)\n",
    "#Square r\n",
    "rsqd = res.rvalue**2\n",
    "#Plot Line on scatter plot\n",
    "plt.plot(x_values, res.intercept + res.slope*x_values, 'g')\n",
    "plt.scatter(x_values,y_values)\n",
    "plt.xlabel('Latitude')\n",
    "plt.ylabel('Maximum Temperature')\n",
    "plt.title('Southern Hemisphere - City Latitude vs Wind with linear regression')\n",
    "print(f'R-Value{res.rvalue}')\n",
    "plt.show()"
   ]
  },
  {
   "cell_type": "code",
   "execution_count": null,
   "metadata": {},
   "outputs": [],
   "source": [
    "#Impressions: Although there is more of a slope in the Southern Hemisphere \n",
    "#scatterplot there seems to be little correlation between the two datums overall."
   ]
  }
 ],
 "metadata": {
  "anaconda-cloud": {},
  "kernel_info": {
   "name": "python3"
  },
  "kernelspec": {
   "display_name": "Python 3",
   "language": "python",
   "name": "python3"
  },
  "language_info": {
   "codemirror_mode": {
    "name": "ipython",
    "version": 3
   },
   "file_extension": ".py",
   "mimetype": "text/x-python",
   "name": "python",
   "nbconvert_exporter": "python",
   "pygments_lexer": "ipython3",
   "version": "3.8.5"
  },
  "latex_envs": {
   "LaTeX_envs_menu_present": true,
   "autoclose": false,
   "autocomplete": true,
   "bibliofile": "biblio.bib",
   "cite_by": "apalike",
   "current_citInitial": 1,
   "eqLabelWithNumbers": true,
   "eqNumInitial": 1,
   "hotkeys": {
    "equation": "Ctrl-E",
    "itemize": "Ctrl-I"
   },
   "labels_anchors": false,
   "latex_user_defs": false,
   "report_style_numbering": false,
   "user_envs_cfg": false
  },
  "nteract": {
   "version": "0.12.3"
  }
 },
 "nbformat": 4,
 "nbformat_minor": 2
}
